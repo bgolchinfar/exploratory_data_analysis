{
 "cells": [
  {
   "cell_type": "code",
   "execution_count": 1,
   "metadata": {},
   "outputs": [],
   "source": [
    "import pandas as pd\n",
    "import numpy as np\n",
    "import matplotlib.pyplot as plt\n",
    "import seaborn as sns\n",
    "import squarify\n",
    "%matplotlib inline"
   ]
  },
  {
   "cell_type": "code",
   "execution_count": 2,
   "metadata": {},
   "outputs": [
    {
     "data": {
      "text/html": [
       "<div>\n",
       "<style scoped>\n",
       "    .dataframe tbody tr th:only-of-type {\n",
       "        vertical-align: middle;\n",
       "    }\n",
       "\n",
       "    .dataframe tbody tr th {\n",
       "        vertical-align: top;\n",
       "    }\n",
       "\n",
       "    .dataframe thead th {\n",
       "        text-align: right;\n",
       "    }\n",
       "</style>\n",
       "<table border=\"1\" class=\"dataframe\">\n",
       "  <thead>\n",
       "    <tr style=\"text-align: right;\">\n",
       "      <th></th>\n",
       "      <th>idNum</th>\n",
       "      <th>date</th>\n",
       "      <th>problem</th>\n",
       "      <th>MDC</th>\n",
       "      <th>citationIssued</th>\n",
       "      <th>personSearch</th>\n",
       "      <th>vehicleSearch</th>\n",
       "      <th>preRace</th>\n",
       "      <th>race</th>\n",
       "      <th>gender</th>\n",
       "      <th>lat</th>\n",
       "      <th>long</th>\n",
       "      <th>policePrecinct</th>\n",
       "      <th>neighborhood</th>\n",
       "    </tr>\n",
       "  </thead>\n",
       "  <tbody>\n",
       "    <tr>\n",
       "      <th>6823</th>\n",
       "      <td>17-000003</td>\n",
       "      <td>2017-01-01 00:00:42</td>\n",
       "      <td>suspicious</td>\n",
       "      <td>MDC</td>\n",
       "      <td>NaN</td>\n",
       "      <td>NO</td>\n",
       "      <td>NO</td>\n",
       "      <td>Unknown</td>\n",
       "      <td>Unknown</td>\n",
       "      <td>Unknown</td>\n",
       "      <td>44.966617</td>\n",
       "      <td>-93.246458</td>\n",
       "      <td>1</td>\n",
       "      <td>Cedar Riverside</td>\n",
       "    </tr>\n",
       "    <tr>\n",
       "      <th>6824</th>\n",
       "      <td>17-000007</td>\n",
       "      <td>2017-01-01 00:03:07</td>\n",
       "      <td>suspicious</td>\n",
       "      <td>MDC</td>\n",
       "      <td>NaN</td>\n",
       "      <td>NO</td>\n",
       "      <td>NO</td>\n",
       "      <td>Unknown</td>\n",
       "      <td>Unknown</td>\n",
       "      <td>Male</td>\n",
       "      <td>44.980450</td>\n",
       "      <td>-93.271340</td>\n",
       "      <td>1</td>\n",
       "      <td>Downtown West</td>\n",
       "    </tr>\n",
       "    <tr>\n",
       "      <th>6825</th>\n",
       "      <td>17-000073</td>\n",
       "      <td>2017-01-01 00:23:15</td>\n",
       "      <td>traffic</td>\n",
       "      <td>MDC</td>\n",
       "      <td>NaN</td>\n",
       "      <td>NO</td>\n",
       "      <td>NO</td>\n",
       "      <td>Unknown</td>\n",
       "      <td>White</td>\n",
       "      <td>Female</td>\n",
       "      <td>44.948350</td>\n",
       "      <td>-93.275380</td>\n",
       "      <td>5</td>\n",
       "      <td>Whittier</td>\n",
       "    </tr>\n",
       "    <tr>\n",
       "      <th>6826</th>\n",
       "      <td>17-000092</td>\n",
       "      <td>2017-01-01 00:33:48</td>\n",
       "      <td>suspicious</td>\n",
       "      <td>MDC</td>\n",
       "      <td>NaN</td>\n",
       "      <td>NO</td>\n",
       "      <td>NO</td>\n",
       "      <td>Unknown</td>\n",
       "      <td>East African</td>\n",
       "      <td>Male</td>\n",
       "      <td>44.948360</td>\n",
       "      <td>-93.281350</td>\n",
       "      <td>5</td>\n",
       "      <td>Whittier</td>\n",
       "    </tr>\n",
       "    <tr>\n",
       "      <th>6827</th>\n",
       "      <td>17-000098</td>\n",
       "      <td>2017-01-01 00:37:58</td>\n",
       "      <td>traffic</td>\n",
       "      <td>MDC</td>\n",
       "      <td>NaN</td>\n",
       "      <td>NO</td>\n",
       "      <td>NO</td>\n",
       "      <td>Unknown</td>\n",
       "      <td>White</td>\n",
       "      <td>Female</td>\n",
       "      <td>44.979078</td>\n",
       "      <td>-93.262076</td>\n",
       "      <td>1</td>\n",
       "      <td>Downtown West</td>\n",
       "    </tr>\n",
       "  </tbody>\n",
       "</table>\n",
       "</div>"
      ],
      "text/plain": [
       "          idNum                date     problem  MDC citationIssued  \\\n",
       "6823  17-000003 2017-01-01 00:00:42  suspicious  MDC            NaN   \n",
       "6824  17-000007 2017-01-01 00:03:07  suspicious  MDC            NaN   \n",
       "6825  17-000073 2017-01-01 00:23:15     traffic  MDC            NaN   \n",
       "6826  17-000092 2017-01-01 00:33:48  suspicious  MDC            NaN   \n",
       "6827  17-000098 2017-01-01 00:37:58     traffic  MDC            NaN   \n",
       "\n",
       "     personSearch vehicleSearch  preRace          race   gender        lat  \\\n",
       "6823           NO            NO  Unknown       Unknown  Unknown  44.966617   \n",
       "6824           NO            NO  Unknown       Unknown     Male  44.980450   \n",
       "6825           NO            NO  Unknown         White   Female  44.948350   \n",
       "6826           NO            NO  Unknown  East African     Male  44.948360   \n",
       "6827           NO            NO  Unknown         White   Female  44.979078   \n",
       "\n",
       "           long  policePrecinct     neighborhood  \n",
       "6823 -93.246458               1  Cedar Riverside  \n",
       "6824 -93.271340               1    Downtown West  \n",
       "6825 -93.275380               5         Whittier  \n",
       "6826 -93.281350               5         Whittier  \n",
       "6827 -93.262076               1    Downtown West  "
      ]
     },
     "execution_count": 2,
     "metadata": {},
     "output_type": "execute_result"
    }
   ],
   "source": [
    "mpls= pd.read_csv ('MplsStops.csv', index_col = 'Unnamed: 0', parse_dates = ['date'])\n",
    "mpls.head()"
   ]
  },
  {
   "cell_type": "code",
   "execution_count": 18,
   "metadata": {},
   "outputs": [
    {
     "data": {
      "image/png": "[encoded data removed]",
      "text/plain": [
       "<Figure size 1080x1080 with 1 Axes>"
      ]
     },
     "metadata": {},
     "output_type": "display_data"
    }
   ],
   "source": [
    "# plotting a tree map\n",
    "# race_count = mpls.groupby(['race'])['idNum'].count().reset_index(name='counts').sort_values(by='counts',ascending=False)\n",
    "# y = race_count['counts']\n",
    "y = mpls['neighborhood'].value_counts().head(25)\n",
    "    \n",
    "plt.rcParams['figure.figsize'] = (15, 15)\n",
    "plt.style.use('fivethirtyeight')\n",
    "\n",
    "color = plt.cm.magma(np.linspace(0, 1, 20))\n",
    "squarify.plot(sizes = y.values, label = y.index, alpha=.8, color = color)\n",
    "plt.title('Tree Map for Neighborhood', fontsize = 20)\n",
    "\n",
    "plt.axis('off')\n",
    "plt.show()"
   ]
  },
  {
   "cell_type": "code",
   "execution_count": 24,
   "metadata": {},
   "outputs": [
    {
     "data": {
      "text/html": [
       "<div>\n",
       "<style scoped>\n",
       "    .dataframe tbody tr th:only-of-type {\n",
       "        vertical-align: middle;\n",
       "    }\n",
       "\n",
       "    .dataframe tbody tr th {\n",
       "        vertical-align: top;\n",
       "    }\n",
       "\n",
       "    .dataframe thead th {\n",
       "        text-align: right;\n",
       "    }\n",
       "</style>\n",
       "<table border=\"1\" class=\"dataframe\">\n",
       "  <thead>\n",
       "    <tr style=\"text-align: right;\">\n",
       "      <th></th>\n",
       "      <th>problem</th>\n",
       "      <th>race</th>\n",
       "      <th>counts</th>\n",
       "    </tr>\n",
       "  </thead>\n",
       "  <tbody>\n",
       "    <tr>\n",
       "      <th>9</th>\n",
       "      <td>traffic</td>\n",
       "      <td>Black</td>\n",
       "      <td>9762</td>\n",
       "    </tr>\n",
       "    <tr>\n",
       "      <th>6</th>\n",
       "      <td>suspicious</td>\n",
       "      <td>Unknown</td>\n",
       "      <td>8463</td>\n",
       "    </tr>\n",
       "    <tr>\n",
       "      <th>15</th>\n",
       "      <td>traffic</td>\n",
       "      <td>White</td>\n",
       "      <td>8167</td>\n",
       "    </tr>\n",
       "    <tr>\n",
       "      <th>1</th>\n",
       "      <td>suspicious</td>\n",
       "      <td>Black</td>\n",
       "      <td>5458</td>\n",
       "    </tr>\n",
       "    <tr>\n",
       "      <th>7</th>\n",
       "      <td>suspicious</td>\n",
       "      <td>White</td>\n",
       "      <td>3536</td>\n",
       "    </tr>\n",
       "    <tr>\n",
       "      <th>10</th>\n",
       "      <td>traffic</td>\n",
       "      <td>East African</td>\n",
       "      <td>1545</td>\n",
       "    </tr>\n",
       "    <tr>\n",
       "      <th>11</th>\n",
       "      <td>traffic</td>\n",
       "      <td>Latino</td>\n",
       "      <td>1327</td>\n",
       "    </tr>\n",
       "    <tr>\n",
       "      <th>4</th>\n",
       "      <td>suspicious</td>\n",
       "      <td>Native American</td>\n",
       "      <td>1177</td>\n",
       "    </tr>\n",
       "    <tr>\n",
       "      <th>13</th>\n",
       "      <td>traffic</td>\n",
       "      <td>Other</td>\n",
       "      <td>811</td>\n",
       "    </tr>\n",
       "    <tr>\n",
       "      <th>14</th>\n",
       "      <td>traffic</td>\n",
       "      <td>Unknown</td>\n",
       "      <td>756</td>\n",
       "    </tr>\n",
       "    <tr>\n",
       "      <th>2</th>\n",
       "      <td>suspicious</td>\n",
       "      <td>East African</td>\n",
       "      <td>643</td>\n",
       "    </tr>\n",
       "    <tr>\n",
       "      <th>5</th>\n",
       "      <td>suspicious</td>\n",
       "      <td>Other</td>\n",
       "      <td>537</td>\n",
       "    </tr>\n",
       "    <tr>\n",
       "      <th>3</th>\n",
       "      <td>suspicious</td>\n",
       "      <td>Latino</td>\n",
       "      <td>531</td>\n",
       "    </tr>\n",
       "    <tr>\n",
       "      <th>8</th>\n",
       "      <td>traffic</td>\n",
       "      <td>Asian</td>\n",
       "      <td>507</td>\n",
       "    </tr>\n",
       "    <tr>\n",
       "      <th>12</th>\n",
       "      <td>traffic</td>\n",
       "      <td>Native American</td>\n",
       "      <td>339</td>\n",
       "    </tr>\n",
       "    <tr>\n",
       "      <th>0</th>\n",
       "      <td>suspicious</td>\n",
       "      <td>Asian</td>\n",
       "      <td>140</td>\n",
       "    </tr>\n",
       "  </tbody>\n",
       "</table>\n",
       "</div>"
      ],
      "text/plain": [
       "       problem             race  counts\n",
       "9      traffic            Black    9762\n",
       "6   suspicious          Unknown    8463\n",
       "15     traffic            White    8167\n",
       "1   suspicious            Black    5458\n",
       "7   suspicious            White    3536\n",
       "10     traffic     East African    1545\n",
       "11     traffic           Latino    1327\n",
       "4   suspicious  Native American    1177\n",
       "13     traffic            Other     811\n",
       "14     traffic          Unknown     756\n",
       "2   suspicious     East African     643\n",
       "5   suspicious            Other     537\n",
       "3   suspicious           Latino     531\n",
       "8      traffic            Asian     507\n",
       "12     traffic  Native American     339\n",
       "0   suspicious            Asian     140"
      ]
     },
     "execution_count": 24,
     "metadata": {},
     "output_type": "execute_result"
    }
   ],
   "source": [
    "problem_race = mpls.groupby(['problem','race'])['idNum'].count().reset_index(name='counts').sort_values(by='counts',ascending=False)\n",
    "problem_race\n",
    "# # Regions with count of crimes\n",
    "\n",
    "# plt.style.use('seaborn')\n",
    "\n",
    "# problem_race['problem'].value_counts().head(15).plot.pie(figsize = (15, 8), explode = (0.1, 0.1, 0.1, 0.1, 0.1, 0.1, 0.1, 0.1))\n",
    "# plt.title('Stop Count BAsed On Race',fontsize = 20)\n",
    "# plt.xticks(rotation = 90)\n",
    "# plt.show()"
   ]
  },
  {
   "cell_type": "code",
   "execution_count": 12,
   "metadata": {},
   "outputs": [
    {
     "data": {
      "image/png": "[encoded data removed]",
      "text/plain": [
       "<Figure size 1080x576 with 1 Axes>"
      ]
     },
     "metadata": {},
     "output_type": "display_data"
    }
   ],
   "source": [
    "# Regions with count of crimes\n",
    "\n",
    "plt.style.use('seaborn')\n",
    "\n",
    "mpls['race'].value_counts().head(15).plot.pie(figsize = (15, 8), explode = (0.1, 0.1, 0.1, 0.1, 0.1, 0.1, 0.1, 0.1))\n",
    "plt.title('Stop Count BAsed On Race',fontsize = 20)\n",
    "plt.xticks(rotation = 90)\n",
    "plt.show()"
   ]
  },
  {
   "cell_type": "code",
   "execution_count": 2,
   "metadata": {},
   "outputs": [
    {
     "data": {
      "text/plain": [
       "Unnamed: 0                 int64\n",
       "idNum                     object\n",
       "date              datetime64[ns]\n",
       "problem                   object\n",
       "MDC                       object\n",
       "citationIssued            object\n",
       "personSearch              object\n",
       "vehicleSearch             object\n",
       "preRace                   object\n",
       "race                      object\n",
       "gender                    object\n",
       "lat                      float64\n",
       "long                     float64\n",
       "policePrecinct             int64\n",
       "neighborhood              object\n",
       "dtype: object"
      ]
     },
     "execution_count": 2,
     "metadata": {},
     "output_type": "execute_result"
    }
   ],
   "source": [
    "mpls.dtypes"
   ]
  },
  {
   "cell_type": "code",
   "execution_count": 3,
   "metadata": {},
   "outputs": [
    {
     "data": {
      "text/plain": [
       "array(['Unknown', 'Male', 'Female', nan], dtype=object)"
      ]
     },
     "execution_count": 3,
     "metadata": {},
     "output_type": "execute_result"
    }
   ],
   "source": [
    "#number of male and female that were stopped  by the Minneapolis Police Department for the year 2017\n",
    "#Here I want to know what type of arrays does the gender column in my dataset contains\n",
    "mpls.gender.unique()\n",
    "#output array(['Unknown', 'Male', 'Female', nan], dtype=object)"
   ]
  },
  {
   "cell_type": "code",
   "execution_count": 16,
   "metadata": {},
   "outputs": [
    {
     "data": {
      "text/plain": [
       "Male       27131\n",
       "Female     10015\n",
       "Unknown     6492\n",
       "Name: gender, dtype: int64"
      ]
     },
     "execution_count": 16,
     "metadata": {},
     "output_type": "execute_result"
    }
   ],
   "source": [
    "#To know how much of each type we have\n",
    "mpls.gender.value_counts()\n",
    "#output Male       27131\n",
    "# Female     10015\n",
    "# Unknown     6492\n",
    "# Name: gender, dtype: int64"
   ]
  },
  {
   "cell_type": "code",
   "execution_count": 17,
   "metadata": {},
   "outputs": [
    {
     "data": {
      "text/plain": [
       "traffic       23199\n",
       "suspicious    20439\n",
       "Name: problem, dtype: int64"
      ]
     },
     "execution_count": 17,
     "metadata": {},
     "output_type": "execute_result"
    }
   ],
   "source": [
    "mpls.problem.value_counts()"
   ]
  },
  {
   "cell_type": "code",
   "execution_count": null,
   "metadata": {},
   "outputs": [],
   "source": [
    "t = mpls.PdDistrict.value_counts()\n",
    "\n",
    "table = pd.DataFrame(data=t.values, index=t.index, columns=['Count'])\n",
    "table = table.reindex([\"CENTRAL\", \"NORTHERN\", \"PARK\", \"SOUTHERN\", \"MISSION\", \"TENDERLOIN\", \"RICHMOND\", \"TARAVAL\", \"INGLESIDE\", \"BAYVIEW\"])\n",
    "\n",
    "table = table.reset_index()\n",
    "table.rename({'index': 'Neighborhood'}, axis='columns', inplace=True)\n",
    "\n",
    "table"
   ]
  },
  {
   "cell_type": "code",
   "execution_count": 40,
   "metadata": {},
   "outputs": [
    {
     "data": {
      "text/html": [
       "<div>\n",
       "<style scoped>\n",
       "    .dataframe tbody tr th:only-of-type {\n",
       "        vertical-align: middle;\n",
       "    }\n",
       "\n",
       "    .dataframe tbody tr th {\n",
       "        vertical-align: top;\n",
       "    }\n",
       "\n",
       "    .dataframe thead th {\n",
       "        text-align: right;\n",
       "    }\n",
       "</style>\n",
       "<table border=\"1\" class=\"dataframe\">\n",
       "  <thead>\n",
       "    <tr style=\"text-align: right;\">\n",
       "      <th></th>\n",
       "      <th>Neighborhood</th>\n",
       "      <th>Count</th>\n",
       "    </tr>\n",
       "  </thead>\n",
       "  <tbody>\n",
       "    <tr>\n",
       "      <th>0</th>\n",
       "      <td>Downtown West</td>\n",
       "      <td>4409</td>\n",
       "    </tr>\n",
       "    <tr>\n",
       "      <th>1</th>\n",
       "      <td>Whittier</td>\n",
       "      <td>3328</td>\n",
       "    </tr>\n",
       "    <tr>\n",
       "      <th>2</th>\n",
       "      <td>Near - North</td>\n",
       "      <td>2256</td>\n",
       "    </tr>\n",
       "    <tr>\n",
       "      <th>3</th>\n",
       "      <td>Lyndale</td>\n",
       "      <td>2154</td>\n",
       "    </tr>\n",
       "    <tr>\n",
       "      <th>4</th>\n",
       "      <td>Jordan</td>\n",
       "      <td>2075</td>\n",
       "    </tr>\n",
       "    <tr>\n",
       "      <th>...</th>\n",
       "      <td>...</td>\n",
       "      <td>...</td>\n",
       "    </tr>\n",
       "    <tr>\n",
       "      <th>82</th>\n",
       "      <td>Morris Park</td>\n",
       "      <td>74</td>\n",
       "    </tr>\n",
       "    <tr>\n",
       "      <th>83</th>\n",
       "      <td>Hale</td>\n",
       "      <td>61</td>\n",
       "    </tr>\n",
       "    <tr>\n",
       "      <th>84</th>\n",
       "      <td>Page</td>\n",
       "      <td>41</td>\n",
       "    </tr>\n",
       "    <tr>\n",
       "      <th>85</th>\n",
       "      <td>Camden Industrial</td>\n",
       "      <td>34</td>\n",
       "    </tr>\n",
       "    <tr>\n",
       "      <th>86</th>\n",
       "      <td>Humboldt Industrial Area</td>\n",
       "      <td>10</td>\n",
       "    </tr>\n",
       "  </tbody>\n",
       "</table>\n",
       "<p>87 rows × 2 columns</p>\n",
       "</div>"
      ],
      "text/plain": [
       "                Neighborhood  Count\n",
       "0              Downtown West   4409\n",
       "1                   Whittier   3328\n",
       "2               Near - North   2256\n",
       "3                    Lyndale   2154\n",
       "4                     Jordan   2075\n",
       "..                       ...    ...\n",
       "82               Morris Park     74\n",
       "83                      Hale     61\n",
       "84                      Page     41\n",
       "85         Camden Industrial     34\n",
       "86  Humboldt Industrial Area     10\n",
       "\n",
       "[87 rows x 2 columns]"
      ]
     },
     "execution_count": 40,
     "metadata": {},
     "output_type": "execute_result"
    }
   ],
   "source": [
    "t = mpls.neighborhood.value_counts()\n",
    "\n",
    "table = pd.DataFrame(data=t.values, index=t.index, columns=['Count'])\n",
    "# table = table.reindex([\"CENTRAL\", \"NORTHERN\", \"PARK\", \"SOUTHERN\", \"MISSION\", \"TENDERLOIN\", \"RICHMOND\", \"TARAVAL\", \"INGLESIDE\", \"BAYVIEW\"])\n",
    "\n",
    "table = table.reset_index()\n",
    "table.rename({'index': 'Neighborhood'}, axis='columns', inplace=True)\n",
    "#generate map\n",
    "sf_map.choropleth(\n",
    "    geo_data=gjson,\n",
    "    data=table,\n",
    "    columns=['Neighborhood', 'Count'],\n",
    "    key_on='feature.properties.DISTRICT',\n",
    "    fill_color='YlOrRd', \n",
    "    fill_opacity=0.7, \n",
    "    line_opacity=0.2,\n",
    "    legend_name='Crime Rate in San Francisco'\n",
    ")\n",
    "\n",
    "sf_map"
   ]
  },
  {
   "cell_type": "code",
   "execution_count": 26,
   "metadata": {},
   "outputs": [
    {
     "data": {
      "text/plain": [
       "Index(['idNum', 'date', 'problem', 'MDC', 'citationIssued', 'personSearch',\n",
       "       'vehicleSearch', 'preRace', 'race', 'gender', 'lat', 'long',\n",
       "       'policePrecinct', 'neighborhood'],\n",
       "      dtype='object')"
      ]
     },
     "execution_count": 26,
     "metadata": {},
     "output_type": "execute_result"
    }
   ],
   "source": [
    "mpls.columns"
   ]
  },
  {
   "cell_type": "code",
   "execution_count": 29,
   "metadata": {},
   "outputs": [
    {
     "data": {
      "text/plain": [
       "idNum                       17-011495\n",
       "date              2017-01-10 19:45:43\n",
       "problem                       traffic\n",
       "MDC                               MDC\n",
       "citationIssued                    NaN\n",
       "personSearch                       NO\n",
       "vehicleSearch                      NO\n",
       "preRace                       Unknown\n",
       "race                            Black\n",
       "gender                           Male\n",
       "lat                         44.975335\n",
       "long                       -93.277636\n",
       "policePrecinct                      1\n",
       "neighborhood            Downtown West\n",
       "Name: 7886, dtype: object"
      ]
     },
     "execution_count": 29,
     "metadata": {},
     "output_type": "execute_result"
    }
   ],
   "source": [
    "mpls.iloc[1000,:]"
   ]
  },
  {
   "cell_type": "code",
   "execution_count": 25,
   "metadata": {},
   "outputs": [
    {
     "name": "stdout",
     "output_type": "stream",
     "text": [
      "This is Behnoush\n"
     ]
    }
   ],
   "source": [
    "print(\"This is Behnoush\")"
   ]
  }
 ],
 "metadata": {
  "kernelspec": {
   "display_name": "bridge-env",
   "language": "python",
   "name": "bridge-env"
  },
  "language_info": {
   "codemirror_mode": {
    "name": "ipython",
    "version": 3
   },
   "file_extension": ".py",
   "mimetype": "text/x-python",
   "name": "python",
   "nbconvert_exporter": "python",
   "pygments_lexer": "ipython3",
   "version": "3.7.7"
  }
 },
 "nbformat": 4,
 "nbformat_minor": 4
}
